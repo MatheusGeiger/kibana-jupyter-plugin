{
 "cells": [
  {
   "cell_type": "code",
   "execution_count": 2,
   "id": "790dc276-f1ac-4f55-bfe6-af4136343019",
   "metadata": {},
   "outputs": [
    {
     "name": "stdout",
     "output_type": "stream",
     "text": [
      "First Kibana plugin to run jupyter into iframe\n"
     ]
    }
   ],
   "source": [
    "print(\"First Kibana plugin to run jupyter into iframe\")"
   ]
  },
  {
   "cell_type": "code",
   "execution_count": null,
   "id": "b12cf61b-8d07-4ba2-84eb-b9e3a620c0af",
   "metadata": {},
   "outputs": [],
   "source": []
  }
 ],
 "metadata": {
  "kernelspec": {
   "display_name": "Python 3 (ipykernel)",
   "language": "python",
   "name": "python3"
  },
  "language_info": {
   "codemirror_mode": {
    "name": "ipython",
    "version": 3
   },
   "file_extension": ".py",
   "mimetype": "text/x-python",
   "name": "python",
   "nbconvert_exporter": "python",
   "pygments_lexer": "ipython3",
   "version": "3.10.6"
  }
 },
 "nbformat": 4,
 "nbformat_minor": 5
}
